{
 "cells": [
  {
   "cell_type": "code",
   "execution_count": 2,
   "metadata": {},
   "outputs": [],
   "source": [
    "!python starter.py"
   ]
  },
  {
   "cell_type": "code",
   "execution_count": 3,
   "metadata": {},
   "outputs": [],
   "source": [
    "from starter import *\n",
    "#uuid for unique identifier"
   ]
  },
  {
   "cell_type": "code",
   "execution_count": 6,
   "metadata": {},
   "outputs": [
    {
     "name": "stdout",
     "output_type": "stream",
     "text": [
      "4.5.3\n",
      "1.21.2\n"
     ]
    }
   ],
   "source": [
    "library_details()"
   ]
  },
  {
   "cell_type": "code",
   "execution_count": 4,
   "metadata": {},
   "outputs": [],
   "source": [
    "labels = ['thumbsup', 'thumbsdown', 'livelong']\n",
    "number_imgs = 15"
   ]
  },
  {
   "cell_type": "code",
   "execution_count": 4,
   "metadata": {},
   "outputs": [
    {
     "name": "stdout",
     "output_type": "stream",
     "text": [
      "..\\tf_od_workspace\\images\\collected_images\n"
     ]
    }
   ],
   "source": [
    "IMAGES_PATH = os.path.join('..', 'tf_od_workspace','images', 'collected_images')\n",
    "print(IMAGES_PATH)"
   ]
  },
  {
   "cell_type": "code",
   "execution_count": 48,
   "metadata": {},
   "outputs": [
    {
     "name": "stdout",
     "output_type": "stream",
     "text": [
      "['..\\\\videos\\\\hand_gestures\\\\thumbsup.mp4', '..\\\\videos\\\\hand_gestures\\\\thumbsdown.mp4', '..\\\\videos\\\\hand_gestures\\\\livelong.mp4']\n"
     ]
    }
   ],
   "source": [
    "VIDEOS_PATH = []\n",
    "VIDEOS_PATH.append(os.path.join('..', 'tf_od_workspace','videos','hand_gestures','thumbsup.mp4'))\n",
    "VIDEOS_PATH.append(os.path.join('..', 'tf_od_workspace','videos','hand_gestures','thumbsdown.mp4'))\n",
    "VIDEOS_PATH.append(os.path.join('..', 'tf_od_workspace','videos','hand_gestures','livelong.mp4'))\n",
    "print(VIDEOS_PATH)"
   ]
  },
  {
   "cell_type": "code",
   "execution_count": 71,
   "metadata": {},
   "outputs": [
    {
     "name": "stdout",
     "output_type": "stream",
     "text": [
      "{'thumbsup': '..\\\\videos\\\\hand_gestures\\\\thumbsup.mp4', 'thumbsdown': '..\\\\videos\\\\hand_gestures\\\\thumbsdown.mp4', 'livelong': '..\\\\videos\\\\hand_gestures\\\\livelong.mp4'}\n"
     ]
    }
   ],
   "source": [
    "videos = {}\n",
    "for key in labels:\n",
    "    for value in VIDEOS_PATH:\n",
    "        videos[key] = value\n",
    "        VIDEOS_PATH.remove(value)\n",
    "        break\n",
    "print(videos)"
   ]
  },
  {
   "cell_type": "code",
   "execution_count": 67,
   "metadata": {},
   "outputs": [],
   "source": [
    "for label in labels:\n",
    "    label_path = os.path.join(IMAGES_PATH, label)\n",
    "    if not os.path.exists(label_path):\n",
    "        !mkdir {label_path}"
   ]
  },
  {
   "cell_type": "code",
   "execution_count": 72,
   "metadata": {},
   "outputs": [
    {
     "name": "stdout",
     "output_type": "stream",
     "text": [
      "Collecting images for thumbsup\n",
      "collecting image 0\n",
      "collecting image 1\n",
      "collecting image 2\n",
      "collecting image 3\n",
      "collecting image 4\n",
      "collecting image 5\n",
      "collecting image 6\n",
      "collecting image 7\n",
      "collecting image 8\n",
      "collecting image 9\n",
      "collecting image 10\n",
      "collecting image 11\n",
      "collecting image 12\n",
      "collecting image 13\n",
      "collecting image 14\n",
      "Collecting images for thumbsdown\n",
      "collecting image 0\n",
      "collecting image 1\n",
      "collecting image 2\n",
      "collecting image 3\n",
      "collecting image 4\n",
      "collecting image 5\n",
      "collecting image 6\n",
      "collecting image 7\n",
      "collecting image 8\n",
      "collecting image 9\n",
      "collecting image 10\n",
      "collecting image 11\n",
      "collecting image 12\n",
      "collecting image 13\n",
      "collecting image 14\n",
      "Collecting images for livelong\n",
      "collecting image 0\n",
      "collecting image 1\n",
      "collecting image 2\n",
      "collecting image 3\n",
      "collecting image 4\n",
      "collecting image 5\n",
      "collecting image 6\n",
      "collecting image 7\n",
      "collecting image 8\n",
      "collecting image 9\n",
      "collecting image 10\n",
      "collecting image 11\n",
      "collecting image 12\n",
      "collecting image 13\n",
      "collecting image 14\n"
     ]
    }
   ],
   "source": [
    "for label in labels: \n",
    "    cap = cv2.VideoCapture(videos[label])\n",
    "    print(\"Collecting images for {}\".format(label))\n",
    "    time.sleep(5)\n",
    "    for img_num in range(number_imgs):\n",
    "        print(\"collecting image {}\".format(img_num))\n",
    "        ret, frame = cap.read()\n",
    "        img_name = os.path.join(IMAGES_PATH, label, label+'_'+'{}.jpg'.format(str(uuid.uuid1())))\n",
    "        cv2.imwrite(img_name, frame)\n",
    "        cv2.imshow('frame', frame)\n",
    "        time.sleep(2)\n",
    "    cap.release()\n",
    "    cv2.destroyAllWindows()\n"
   ]
  },
  {
   "cell_type": "code",
   "execution_count": 65,
   "metadata": {},
   "outputs": [],
   "source": []
  },
  {
   "cell_type": "code",
   "execution_count": 9,
   "metadata": {},
   "outputs": [
    {
     "name": "stdout",
     "output_type": "stream",
     "text": [
      "..\\images\\train\n",
      "..\\images\\test\n"
     ]
    }
   ],
   "source": [
    "TRAIN_PATH = os.path.join('..', 'tf_od_workspace','images','train')\n",
    "print(TRAIN_PATH)\n",
    "TEST_PATH = os.path.join('..', 'tf_od_workspace','images','test')\n",
    "print(TEST_PATH)"
   ]
  },
  {
   "cell_type": "code",
   "execution_count": null,
   "metadata": {},
   "outputs": [],
   "source": []
  },
  {
   "cell_type": "code",
   "execution_count": null,
   "metadata": {},
   "outputs": [],
   "source": []
  }
 ],
 "metadata": {
  "kernelspec": {
   "display_name": "tf-gpu-venv",
   "language": "python",
   "name": "tf-gpu-venv"
  },
  "language_info": {
   "codemirror_mode": {
    "name": "ipython",
    "version": 3
   },
   "file_extension": ".py",
   "mimetype": "text/x-python",
   "name": "python",
   "nbconvert_exporter": "python",
   "pygments_lexer": "ipython3",
   "version": "3.7.6"
  }
 },
 "nbformat": 4,
 "nbformat_minor": 4
}
