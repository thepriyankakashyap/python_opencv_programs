{
 "cells": [
  {
   "cell_type": "code",
   "execution_count": 1,
   "metadata": {},
   "outputs": [],
   "source": [
    "!python starter.py"
   ]
  },
  {
   "cell_type": "code",
   "execution_count": 2,
   "metadata": {},
   "outputs": [],
   "source": [
    "from starter import *"
   ]
  },
  {
   "cell_type": "code",
   "execution_count": 12,
   "metadata": {},
   "outputs": [],
   "source": [
    "CUSTOM_MODEL_NAME = 'my_custom_ssd_mobnet' \n",
    "PRETRAINED_MODEL_NAME = 'ssd_mobilenet_v2_fpnlite_320x320_coco17_tpu-8'\n",
    "PRETRAINED_MODEL_URL = 'http://download.tensorflow.org/models/object_detection/tf2/20200711/ssd_mobilenet_v2_fpnlite_320x320_coco17_tpu-8.tar.gz'\n",
    "TF_RECORD_SCRIPT_NAME = 'generate_tfrecord.py'\n",
    "LABEL_MAP_NAME = 'label_map.pbtxt'"
   ]
  },
  {
   "cell_type": "code",
   "execution_count": 14,
   "metadata": {},
   "outputs": [],
   "source": [
    "paths = {\n",
    "    'WORKSPACE_PATH': os.path.join('..', 'tf_od_workspace','workspace'),\n",
    "    'SCRIPTS_PATH': os.path.join('..', 'tf_od_workspace','scripts'),\n",
    "    'APIMODEL_PATH': os.path.join('..', 'tf_od_workspace','models'),\n",
    "    'ANNOTATION_PATH': os.path.join('..', 'tf_od_workspace','workspace','annotations'),\n",
    "    'IMAGE_PATH': os.path.join('..', 'tf_od_workspace','images', 'collected_images'),\n",
    "    'MODEL_PATH': os.path.join('..', 'tf_od_workspace','workspace','models'),\n",
    "    'PRETRAINED_MODEL_PATH': os.path.join('..', 'tf_od_workspace','workspace','pre-trained-models'),\n",
    "    'CHECKPOINT_PATH': os.path.join('..', 'tf_od_workspace','workspace','models',CUSTOM_MODEL_NAME), \n",
    "    'OUTPUT_PATH': os.path.join('..', 'tf_od_workspace','workspace','models',CUSTOM_MODEL_NAME, 'export'), \n",
    "    'TFJS_PATH':os.path.join('..', 'tf_od_workspace','workspace','models',CUSTOM_MODEL_NAME, 'tfjsexport'), \n",
    "    'TFLITE_PATH':os.path.join('..', 'tf_od_workspace','workspace','models',CUSTOM_MODEL_NAME, 'tfliteexport'), \n",
    "    'PROTOC_PATH':os.path.join('..', 'tf_od_workspace','protoc')\n",
    " }"
   ]
  },
  {
   "cell_type": "code",
   "execution_count": 16,
   "metadata": {},
   "outputs": [],
   "source": [
    "files = {\n",
    "    'PIPELINE_CONFIG':os.path.join('..', 'tf_od_workspace','workspace','models', CUSTOM_MODEL_NAME, 'pipeline.config'),\n",
    "    'TF_RECORD_SCRIPT': os.path.join(paths['SCRIPTS_PATH'], TF_RECORD_SCRIPT_NAME), \n",
    "    'LABELMAP': os.path.join(paths['ANNOTATION_PATH'], LABEL_MAP_NAME)\n",
    "}"
   ]
  },
  {
   "cell_type": "code",
   "execution_count": 17,
   "metadata": {},
   "outputs": [],
   "source": [
    "for path in paths.values():\n",
    "    if not os.path.exists(path):\n",
    "        if os.name == 'nt':\n",
    "            !mkdir {path}\n",
    "#     print(path,\"\\n\")"
   ]
  },
  {
   "cell_type": "code",
   "execution_count": 18,
   "metadata": {},
   "outputs": [],
   "source": [
    "import wget"
   ]
  },
  {
   "cell_type": "code",
   "execution_count": 19,
   "metadata": {},
   "outputs": [
    {
     "name": "stdout",
     "output_type": "stream",
     "text": [
      "^C\n"
     ]
    },
    {
     "name": "stderr",
     "output_type": "stream",
     "text": [
      "Cloning into '..\\tf_od_workspace\\models'...\n",
      "Updating files:  17% (452/2655)\n",
      "Updating files:  18% (478/2655)\n",
      "Updating files:  19% (505/2655)\n",
      "Updating files:  20% (531/2655)\n",
      "Updating files:  21% (558/2655)\n",
      "Updating files:  22% (585/2655)\n",
      "Updating files:  23% (611/2655)\n",
      "Updating files:  24% (638/2655)\n",
      "Updating files:  25% (664/2655)\n",
      "Updating files:  26% (691/2655)\n",
      "Updating files:  27% (717/2655)\n",
      "Updating files:  28% (744/2655)\n",
      "Updating files:  29% (770/2655)\n",
      "Updating files:  30% (797/2655)\n",
      "Updating files:  31% (824/2655)\n",
      "Updating files:  32% (850/2655)\n",
      "Updating files:  33% (877/2655)\n",
      "Updating files:  34% (903/2655)\n",
      "Updating files:  35% (930/2655)\n",
      "Updating files:  35% (937/2655)\n",
      "Updating files:  36% (956/2655)\n",
      "Updating files:  37% (983/2655)\n",
      "Updating files:  38% (1009/2655)\n",
      "Updating files:  39% (1036/2655)\n",
      "Updating files:  40% (1062/2655)\n",
      "Updating files:  41% (1089/2655)\n",
      "Updating files:  42% (1116/2655)\n",
      "Updating files:  43% (1142/2655)\n",
      "Updating files:  44% (1169/2655)\n",
      "Updating files:  45% (1195/2655)\n",
      "Updating files:  46% (1222/2655)\n",
      "Updating files:  47% (1248/2655)\n",
      "Updating files:  48% (1275/2655)\n",
      "Updating files:  49% (1301/2655)\n",
      "Updating files:  50% (1328/2655)\n",
      "Updating files:  51% (1355/2655)\n",
      "Updating files:  52% (1381/2655)\n",
      "Updating files:  53% (1408/2655)\n",
      "Updating files:  54% (1434/2655)\n",
      "Updating files:  55% (1461/2655)\n",
      "Updating files:  56% (1487/2655)\n",
      "Updating files:  57% (1514/2655)\n",
      "Updating files:  58% (1540/2655)\n",
      "Updating files:  58% (1565/2655)\n",
      "Updating files:  59% (1567/2655)\n",
      "Updating files:  60% (1593/2655)\n",
      "Updating files:  61% (1620/2655)\n",
      "Updating files:  62% (1647/2655)\n",
      "Updating files:  63% (1673/2655)\n",
      "Updating files:  64% (1700/2655)\n",
      "Updating files:  65% (1726/2655)\n",
      "Updating files:  66% (1753/2655)\n",
      "Updating files:  67% (1779/2655)\n",
      "Updating files:  68% (1806/2655)\n",
      "Updating files:  69% (1832/2655)\n",
      "Updating files:  70% (1859/2655)\n",
      "Updating files:  71% (1886/2655)\n",
      "Updating files:  72% (1912/2655)\n",
      "Updating files:  73% (1939/2655)\n",
      "Updating files:  74% (1965/2655)\n",
      "Updating files:  75% (1992/2655)\n",
      "Updating files:  76% (2018/2655)\n",
      "Updating files:  77% (2045/2655)\n",
      "Updating files:  78% (2071/2655)\n",
      "Updating files:  79% (2098/2655)\n",
      "Updating files:  80% (2124/2655)\n",
      "Updating files:  81% (2151/2655)\n",
      "Updating files:  82% (2178/2655)\n",
      "Updating files:  83% (2204/2655)\n",
      "Updating files:  84% (2231/2655)\n",
      "Updating files:  85% (2257/2655)\n",
      "Updating files:  86% (2284/2655)\n",
      "Updating files:  87% (2310/2655)\n",
      "Updating files:  87% (2320/2655)\n",
      "Updating files:  88% (2337/2655)\n",
      "Updating files:  89% (2363/2655)\n",
      "Updating files:  90% (2390/2655)\n",
      "Updating files:  91% (2417/2655)\n",
      "Updating files:  92% (2443/2655)\n",
      "Updating files:  93% (2470/2655)\n",
      "Updating files:  94% (2496/2655)\n",
      "Updating files:  95% (2523/2655)\n",
      "Updating files:  95% (2525/2655)\n",
      "Updating files:  96% (2549/2655)\n",
      "Updating files:  97% (2576/2655)\n",
      "Updating files:  98% (2602/2655)\n",
      "Updating files:  99% (2629/2655)\n",
      "Updating files: 100% (2655/2655)\n",
      "Updating files: 100% (2655/2655), done.\n"
     ]
    }
   ],
   "source": [
    "if not os.path.exists(os.path.join(paths['APIMODEL_PATH'], 'research', 'object_detection')):\n",
    "    !git clone https://github.com/tensorflow/models {paths['APIMODEL_PATH']}"
   ]
  },
  {
   "cell_type": "code",
   "execution_count": null,
   "metadata": {},
   "outputs": [],
   "source": [
    "if os.name=='nt':\n",
    "    url=\"https://github.com/protocolbuffers/protobuf/releases/download/v3.15.6/protoc-3.15.6-win64.zip\"\n",
    "    wget.download(url)\n",
    "    !move protoc-3.15.6-win64.zip {paths['PROTOC_PATH']}\n",
    "    !cd {paths['PROTOC_PATH']} && tar -xf protoc-3.15.6-win64.zip\n",
    "    os.environ['PATH'] += os.pathsep + os.path.abspath(os.path.join(paths['PROTOC_PATH'], 'bin'))   \n",
    "    !cd Tensorflow/models/research && protoc object_detection/protos/*.proto --python_out=. && copy object_detection\\\\packages\\\\tf2\\\\setup.py setup.py && python setup.py build && python setup.py install\n",
    "    !cd Tensorflow/models/research/slim && pip install -e ."
   ]
  }
 ],
 "metadata": {
  "kernelspec": {
   "display_name": "tf-gpu-venv",
   "language": "python",
   "name": "tf-gpu-venv"
  },
  "language_info": {
   "codemirror_mode": {
    "name": "ipython",
    "version": 3
   },
   "file_extension": ".py",
   "mimetype": "text/x-python",
   "name": "python",
   "nbconvert_exporter": "python",
   "pygments_lexer": "ipython3",
   "version": "3.7.6"
  }
 },
 "nbformat": 4,
 "nbformat_minor": 4
}
