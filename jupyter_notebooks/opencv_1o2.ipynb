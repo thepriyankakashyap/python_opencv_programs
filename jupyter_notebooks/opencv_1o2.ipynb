{
 "cells": [
  {
   "cell_type": "code",
   "execution_count": 1,
   "metadata": {},
   "outputs": [],
   "source": [
    "import cv2\n",
    "import numpy  as np\n",
    "import matplotlib.pyplot as plt\n",
    "%matplotlib inline"
   ]
  },
  {
   "cell_type": "code",
   "execution_count": 2,
   "metadata": {},
   "outputs": [],
   "source": [
    "def display(window_name, canvas):\n",
    "    cv2.imshow(window_name, canvas)\n",
    "    cv2.waitKey(0)\n",
    "    cv2.destroyWindow(window_name)"
   ]
  },
  {
   "cell_type": "code",
   "execution_count": 3,
   "metadata": {},
   "outputs": [],
   "source": [
    "#defining colors\n",
    "white = (255,255,255)\n",
    "black = (0,0,0)\n",
    "green = (0,255,0)\n",
    "blue = (255, 0,0)\n",
    "red = (0,0,255)"
   ]
  },
  {
   "cell_type": "markdown",
   "metadata": {},
   "source": [
    "# Convolutions with OpenCV"
   ]
  },
  {
   "cell_type": "markdown",
   "metadata": {},
   "source": [
    "<details>\n",
    "  <summary> ⭐⭐⭐⭐ OpenCV Image Convolutions (CLICK) </summary>\n",
    "\n",
    "\n",
    "<p>\n",
    "In reality, an (image) convolution is simply an element-wise multiplication of two matrices followed by a sum. <br>\n",
    "    1 . Take two matrices (which both have the same dimensions). <br>\n",
    "    2 . Multiply them, element-by-element (i.e., not the dot-product, just a simple multiplication). <br>\n",
    "    3 . Sum the elements together. <br>\n",
    "</p>\n",
    "  \n",
    "</details>\n",
    "\n"
   ]
  },
  {
   "cell_type": "code",
   "execution_count": null,
   "metadata": {},
   "outputs": [],
   "source": []
  }
 ],
 "metadata": {
  "kernelspec": {
   "display_name": "Python 3",
   "language": "python",
   "name": "python3"
  },
  "language_info": {
   "codemirror_mode": {
    "name": "ipython",
    "version": 3
   },
   "file_extension": ".py",
   "mimetype": "text/x-python",
   "name": "python",
   "nbconvert_exporter": "python",
   "pygments_lexer": "ipython3",
   "version": "3.7.6"
  }
 },
 "nbformat": 4,
 "nbformat_minor": 4
}
