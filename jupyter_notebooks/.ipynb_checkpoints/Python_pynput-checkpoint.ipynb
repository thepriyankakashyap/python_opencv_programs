{
 "cells": [
  {
   "cell_type": "markdown",
   "metadata": {},
   "source": [
    "<h1><b>AUTHOR- <u>NILUTPOL KASHYAP</u></b></h1>"
   ]
  },
  {
   "cell_type": "markdown",
   "metadata": {},
   "source": [
    "<h1><b>Python pynput library</u></b></h1>\n",
    "<h3>Simulate Keyboard & Mouse Events in Python</h3>\n",
    "<h3><b>LINK - </b> https://pynput.readthedocs.io/en/latest/index.html </h3>"
   ]
  },
  {
   "cell_type": "code",
   "execution_count": 36,
   "metadata": {},
   "outputs": [],
   "source": [
    "#pip install pynput\n",
    "from pynput.keyboard import Key, Controller as KeyboardController\n",
    "from pynput.mouse import Button, Controller as MouseController\n",
    "import time"
   ]
  },
  {
   "cell_type": "code",
   "execution_count": 37,
   "metadata": {},
   "outputs": [],
   "source": [
    "keyboard = KeyboardController()\n",
    "mouse  = MouseController()"
   ]
  },
  {
   "cell_type": "code",
   "execution_count": 13,
   "metadata": {},
   "outputs": [],
   "source": [
    "keyboard.press('a')\n",
    "keyboard.release('a')"
   ]
  },
  {
   "cell_type": "code",
   "execution_count": 45,
   "metadata": {},
   "outputs": [],
   "source": [
    "time.sleep(3)\n",
    "for i in range(5):\n",
    "    keyboard.press('a')\n",
    "    keyboard.press(Key.space)\n",
    "    keyboard.release(Key.space)\n",
    "    time.sleep(1)\n",
    "    keyboard.release('a')"
   ]
  },
  {
   "cell_type": "code",
   "execution_count": null,
   "metadata": {},
   "outputs": [],
   "source": [
    "a a a a a "
   ]
  },
  {
   "cell_type": "code",
   "execution_count": 21,
   "metadata": {},
   "outputs": [],
   "source": [
    "time.sleep(3)\n",
    "keyboard.press(Key.alt_l)\n",
    "keyboard.press(Key.tab)\n",
    "keyboard.release(Key.tab)\n",
    "keyboard.release(Key.alt_l)"
   ]
  },
  {
   "cell_type": "code",
   "execution_count": 25,
   "metadata": {},
   "outputs": [],
   "source": [
    "time.sleep(3)\n",
    "for i in range(5):\n",
    "    keyboard.press(Key.alt_l)\n",
    "    keyboard.press(Key.tab)\n",
    "    keyboard.release(Key.tab)\n",
    "    keyboard.release(Key.alt_l)\n",
    "    time.sleep(1)"
   ]
  },
  {
   "cell_type": "code",
   "execution_count": 32,
   "metadata": {},
   "outputs": [],
   "source": [
    "time.sleep(3)\n",
    "for i in range(10):\n",
    "    keyboard.press('a')\n",
    "    keyboard.release('a')\n",
    "    keyboard.press(Key.shift_l)\n",
    "    keyboard.press('b')\n",
    "    keyboard.release('b')\n",
    "    keyboard.release(Key.shift_l)\n",
    "    time.sleep(1)"
   ]
  },
  {
   "cell_type": "code",
   "execution_count": null,
   "metadata": {},
   "outputs": [],
   "source": [
    "aBaBaBaBaBaBaBaBaBaB"
   ]
  },
  {
   "cell_type": "code",
   "execution_count": 33,
   "metadata": {},
   "outputs": [],
   "source": [
    "time.sleep(3)\n",
    "keyboard.type(\"Hello World\")"
   ]
  },
  {
   "cell_type": "code",
   "execution_count": null,
   "metadata": {},
   "outputs": [],
   "source": [
    "Hello World"
   ]
  },
  {
   "cell_type": "code",
   "execution_count": 47,
   "metadata": {},
   "outputs": [],
   "source": [
    "time.sleep(3)\n",
    "with keyboard.pressed(Key.shift):\n",
    "    keyboard.press('a')\n",
    "    keyboard.release('a')\n",
    "    keyboard.type(\"HELLO\")"
   ]
  },
  {
   "cell_type": "code",
   "execution_count": null,
   "metadata": {},
   "outputs": [],
   "source": [
    "AHELLO"
   ]
  },
  {
   "cell_type": "code",
   "execution_count": 50,
   "metadata": {},
   "outputs": [
    {
     "name": "stdout",
     "output_type": "stream",
     "text": [
      "The current pointer position is (869, 395)\n"
     ]
    }
   ],
   "source": [
    "print('The current pointer position is {0}'.format(\n",
    "    mouse.position))"
   ]
  },
  {
   "cell_type": "code",
   "execution_count": 52,
   "metadata": {},
   "outputs": [
    {
     "name": "stdout",
     "output_type": "stream",
     "text": [
      "Now we have moved it to (10, 20)\n"
     ]
    }
   ],
   "source": [
    "mouse.position = (10, 20)\n",
    "print('Now we have moved it to {0}'.format(\n",
    "    mouse.position))"
   ]
  },
  {
   "cell_type": "code",
   "execution_count": 54,
   "metadata": {},
   "outputs": [],
   "source": [
    "mouse.move(100, 100)"
   ]
  },
  {
   "cell_type": "code",
   "execution_count": 56,
   "metadata": {},
   "outputs": [],
   "source": [
    "#left mouse press & release\n",
    "mouse.press(Button.left)\n",
    "mouse.release(Button.left)"
   ]
  },
  {
   "cell_type": "code",
   "execution_count": 57,
   "metadata": {},
   "outputs": [],
   "source": [
    "#right mouse press & release\n",
    "mouse.press(Button.right)\n",
    "mouse.release(Button.right)"
   ]
  },
  {
   "cell_type": "code",
   "execution_count": 60,
   "metadata": {},
   "outputs": [],
   "source": [
    "#scroll down two steps\n",
    "mouse.scroll(0,2)"
   ]
  },
  {
   "cell_type": "code",
   "execution_count": 63,
   "metadata": {},
   "outputs": [],
   "source": [
    "#left mouse single click\n",
    "mouse.click(Button.left)"
   ]
  },
  {
   "cell_type": "code",
   "execution_count": 64,
   "metadata": {},
   "outputs": [],
   "source": [
    "#left mouse double click\n",
    "mouse.click(Button.left,2)"
   ]
  },
  {
   "cell_type": "code",
   "execution_count": null,
   "metadata": {},
   "outputs": [],
   "source": []
  }
 ],
 "metadata": {
  "kernelspec": {
   "display_name": "Python 3",
   "language": "python",
   "name": "python3"
  },
  "language_info": {
   "codemirror_mode": {
    "name": "ipython",
    "version": 3
   },
   "file_extension": ".py",
   "mimetype": "text/x-python",
   "name": "python",
   "nbconvert_exporter": "python",
   "pygments_lexer": "ipython3",
   "version": "3.7.6"
  }
 },
 "nbformat": 4,
 "nbformat_minor": 4
}
