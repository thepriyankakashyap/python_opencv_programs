{
 "cells": [
  {
   "cell_type": "markdown",
   "metadata": {},
   "source": [
    "<h1>AUTHOR - NILUTPOL KASHYAP </H1>"
   ]
  },
  {
   "cell_type": "code",
   "execution_count": 3,
   "metadata": {},
   "outputs": [
    {
     "name": "stdout",
     "output_type": "stream",
     "text": [
      "Done Importing Libraries!!!!\n"
     ]
    }
   ],
   "source": [
    "import cv2\n",
    "import numpy as np\n",
    "import matplotlib.pyplot as plt\n",
    "%matplotlib inline\n",
    "\n",
    "print(\"Done Importing Libraries!!!!\")"
   ]
  },
  {
   "cell_type": "code",
   "execution_count": 54,
   "metadata": {},
   "outputs": [
    {
     "name": "stdout",
     "output_type": "stream",
     "text": [
      "[[[128 138 225]\n",
      "  [127 137 224]\n",
      "  [126 136 223]\n",
      "  ...\n",
      "  [126 146 234]\n",
      "  [110 129 220]\n",
      "  [ 86 104 197]]\n",
      "\n",
      " [[127 138 222]\n",
      "  [127 137 224]\n",
      "  [127 137 224]\n",
      "  ...\n",
      "  [130 150 235]\n",
      "  [112 131 218]\n",
      "  [ 83 102 189]]\n",
      "\n",
      " [[127 138 222]\n",
      "  [127 137 224]\n",
      "  [128 138 225]\n",
      "  ...\n",
      "  [127 148 230]\n",
      "  [112 133 215]\n",
      "  [ 85 105 190]]\n",
      "\n",
      " ...\n",
      "\n",
      " [[ 55  21  82]\n",
      "  [ 54  20  81]\n",
      "  [ 62  28  92]\n",
      "  ...\n",
      "  [ 82  71 175]\n",
      "  [ 78  68 175]\n",
      "  [ 74  65 175]]\n",
      "\n",
      " [[ 55  18  80]\n",
      "  [ 54  20  81]\n",
      "  [ 67  33  94]\n",
      "  ...\n",
      "  [ 82  69 177]\n",
      "  [ 82  70 182]\n",
      "  [ 81  72 183]]\n",
      "\n",
      " [[ 56  19  81]\n",
      "  [ 58  21  83]\n",
      "  [ 69  35  96]\n",
      "  ...\n",
      "  [ 81  68 178]\n",
      "  [ 83  71 183]\n",
      "  [ 84  74 188]]]\n"
     ]
    }
   ],
   "source": [
    "lena_img = cv2.imread(\"lena.jpg\", 1 )\n",
    "print(lena_img)\n",
    "\n",
    "#COLOR FORMAT\n",
    "# 0 - cv2.IMREAD_GRAYSCALE\n",
    "# 1 - cv2.IMREAD_COLOR - DEFAULT\n",
    "# -1 - cv2.IMREAD_UNCHANGED - Alpha Channel"
   ]
  },
  {
   "cell_type": "code",
   "execution_count": 13,
   "metadata": {},
   "outputs": [
    {
     "name": "stdout",
     "output_type": "stream",
     "text": [
      "(512, 512)\n"
     ]
    }
   ],
   "source": [
    "print(lena_img.shape)"
   ]
  },
  {
   "cell_type": "code",
   "execution_count": null,
   "metadata": {},
   "outputs": [],
   "source": [
    "gray_img = cv2.cvtColor(lena_img, cv2.COLOR_BGR2GRAY)\n",
    "print(lena)"
   ]
  },
  {
   "cell_type": "code",
   "execution_count": 33,
   "metadata": {},
   "outputs": [],
   "source": [
    "cv2.imshow(\"lena\", lena_img)\n",
    "cv2.waitKey(1000)\n",
    "#cv2.destroyAllWindows()\n",
    "cv2.destroyWindow(\"lena\")"
   ]
  },
  {
   "cell_type": "code",
   "execution_count": 18,
   "metadata": {},
   "outputs": [
    {
     "data": {
      "text/plain": [
       "True"
      ]
     },
     "execution_count": 18,
     "metadata": {},
     "output_type": "execute_result"
    }
   ],
   "source": [
    "cv2.imwrite(\"lena_new.jpg\", lena_img)"
   ]
  },
  {
   "cell_type": "code",
   "execution_count": 32,
   "metadata": {},
   "outputs": [],
   "source": [
    "lena_new = cv2.imread(\"lena_new.jpg\", -1)\n",
    "\n",
    "cv2.imshow(\"lena_new\", lena_new)\n",
    "cv2.waitKey(1000)\n",
    "cv2.destroyWindow(\"lena_new\")"
   ]
  },
  {
   "cell_type": "code",
   "execution_count": 34,
   "metadata": {},
   "outputs": [],
   "source": [
    "lena_img2 = cv2.imread(\"lena.jpg\", 0)\n",
    "cv2.imshow(\"lena_image\", lena_img2)\n",
    "\n",
    "k = cv2.waitKey(0) & 0xFF         #0xFF is mask for 64-bit machines\n",
    "if k == 27:      # Esc key\n",
    "    cv2.destroyWindow(\"lena_image\")"
   ]
  },
  {
   "cell_type": "code",
   "execution_count": 40,
   "metadata": {},
   "outputs": [],
   "source": [
    "lena_invert  = cv2.flip(lena_img, flipCode = -1)\n",
    "cv2.imshow(\"lena_inverted\", lena_invert)\n",
    "\n",
    "k = cv2.waitKey(0) & 0xFF\n",
    "if k == 27:\n",
    "    cv2.destroyWindow(\"lena_inverted\")"
   ]
  },
  {
   "cell_type": "code",
   "execution_count": 51,
   "metadata": {},
   "outputs": [
    {
     "name": "stdout",
     "output_type": "stream",
     "text": [
      "Inverted image saved!!\n"
     ]
    }
   ],
   "source": [
    "lena_img = cv2.imread(\"lena.jpg\", cv2.IMREAD_COLOR)\n",
    "cv2.imshow(\"lena_img\", lena_img)\n",
    "\n",
    "k = cv2.waitKey(0) & 0xFF\n",
    "\n",
    "if k == 27:\n",
    "    cv2.destroyWindow(\"lena_img\")\n",
    "    print(\"Image Frame closed!!\")\n",
    "elif k == ord('s'):\n",
    "    cv2.imwrite(\"lena2.jpg\", lena_img)\n",
    "    cv2.destroyWindow(\"lena_img\")\n",
    "    print(\"Image saved!!\")\n",
    "elif k == ord('i'):\n",
    "    lena_invert = cv2.flip(lena_img, flipCode = -1)\n",
    "    cv2.imwrite(\"lena_invert2.jpg\", lena_invert)\n",
    "    cv2.destroyWindow(\"lena_img\")\n",
    "    print(\"Inverted image saved!!\")"
   ]
  },
  {
   "cell_type": "code",
   "execution_count": 52,
   "metadata": {},
   "outputs": [],
   "source": [
    "cv2.imshow(\"lena\", lena_img)\n",
    "cv2.waitKey(2000)\n",
    "cv2.destroyWindow(\"lena\")\n",
    "\n",
    "lena_gray = cv2.cvtColor(lena_img, cv2.COLOR_BGR2GRAY)cv2.imshow"
   ]
  },
  {
   "cell_type": "code",
   "execution_count": null,
   "metadata": {},
   "outputs": [],
   "source": []
  }
 ],
 "metadata": {
  "kernelspec": {
   "display_name": "Python 3",
   "language": "python",
   "name": "python3"
  },
  "language_info": {
   "codemirror_mode": {
    "name": "ipython",
    "version": 3
   },
   "file_extension": ".py",
   "mimetype": "text/x-python",
   "name": "python",
   "nbconvert_exporter": "python",
   "pygments_lexer": "ipython3",
   "version": "3.7.6"
  }
 },
 "nbformat": 4,
 "nbformat_minor": 4
}
