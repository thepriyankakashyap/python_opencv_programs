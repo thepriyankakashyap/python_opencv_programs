{
 "cells": [
  {
   "cell_type": "code",
   "execution_count": 1,
   "metadata": {},
   "outputs": [
    {
     "name": "stdout",
     "output_type": "stream",
     "text": [
      "done importing libraries\n"
     ]
    }
   ],
   "source": [
    "import cv2\n",
    "import numpy as np\n",
    "\n",
    "print(\"done importing libraries\")"
   ]
  },
  {
   "cell_type": "markdown",
   "metadata": {},
   "source": [
    "# IMAGE READ, SHOW & WRITE OPERATIONS"
   ]
  },
  {
   "cell_type": "code",
   "execution_count": 2,
   "metadata": {},
   "outputs": [],
   "source": [
    "image = cv2.imread(\"lena.jpg\",1)          # returns 'None' for invalid image"
   ]
  },
  {
   "cell_type": "code",
   "execution_count": 3,
   "metadata": {},
   "outputs": [
    {
     "data": {
      "text/plain": [
       "(512, 512, 3)"
      ]
     },
     "execution_count": 3,
     "metadata": {},
     "output_type": "execute_result"
    }
   ],
   "source": [
    "image.shape"
   ]
  },
  {
   "cell_type": "code",
   "execution_count": 4,
   "metadata": {},
   "outputs": [
    {
     "name": "stdout",
     "output_type": "stream",
     "text": [
      "Height : 512 pixels\n",
      "Width : 512 pixels\n",
      "Channel : 3 \n"
     ]
    }
   ],
   "source": [
    "height = image.shape[0]\n",
    "print(\"Height : {} pixels\".format(height))\n",
    "width = image.shape[1]\n",
    "print(\"Width : {} pixels\".format(width))\n",
    "channels  = image.shape[2]\n",
    "print(\"Channel : {} \".format(channels))"
   ]
  },
  {
   "cell_type": "code",
   "execution_count": 5,
   "metadata": {},
   "outputs": [],
   "source": [
    "cv2.imshow(\"lena_image\", image)\n",
    "cv2.waitKey(0)     # 0 - wait indefinitely\n",
    "# cv2.destroyAllWindows()\n",
    "cv2.destroyWindow(\"lena_image\")"
   ]
  },
  {
   "cell_type": "code",
   "execution_count": 6,
   "metadata": {},
   "outputs": [],
   "source": [
    "gray_image  = cv2.cvtColor(image, cv2.COLOR_BGR2GRAY)"
   ]
  },
  {
   "cell_type": "code",
   "execution_count": 7,
   "metadata": {},
   "outputs": [
    {
     "name": "stdout",
     "output_type": "stream",
     "text": [
      "Image saved\n"
     ]
    }
   ],
   "source": [
    "cv2.imwrite(\"lena_new.jpg\", gray_image)\n",
    "print(\"Image saved\")"
   ]
  },
  {
   "cell_type": "markdown",
   "metadata": {},
   "source": [
    "# Getting and setting pixel values\n",
    "### Pixels are the raw building blocks of an image. Every image consists of a set of pixels."
   ]
  },
  {
   "cell_type": "code",
   "execution_count": 8,
   "metadata": {},
   "outputs": [
    {
     "name": "stdout",
     "output_type": "stream",
     "text": [
      "Pixels at (0,0) are R : 225, G : 138, B : 128\n"
     ]
    }
   ],
   "source": [
    "# getting b, g, r value of image\n",
    "b , g, r = image[0,0]\n",
    "print(\"Pixels at (0,0) are R : {}, G : {}, B : {}\".format(r,g,b))"
   ]
  },
  {
   "cell_type": "code",
   "execution_count": 9,
   "metadata": {},
   "outputs": [
    {
     "name": "stdout",
     "output_type": "stream",
     "text": [
      "Pixels at (50,50) are R : 229, G : 138, B : 109\n"
     ]
    }
   ],
   "source": [
    "b = image[50,50,0]\n",
    "g = image[50,50,1]\n",
    "r = image[50,50,2]\n",
    "print(\"Pixels at (50,50) are R : {}, G : {}, B : {}\".format(r,g,b))"
   ]
  },
  {
   "cell_type": "code",
   "execution_count": 10,
   "metadata": {},
   "outputs": [
    {
     "name": "stdout",
     "output_type": "stream",
     "text": [
      "Pixels at (100,100) are R : 0, G : 0, B : 0\n"
     ]
    }
   ],
   "source": [
    "image[100,100] = (0,0,0)\n",
    "print(\"Pixels at (100,100) are R : {}, G : {}, B : {}\".format(image[100,100,2],image[100,100,1],image[100,100,0]))"
   ]
  },
  {
   "cell_type": "code",
   "execution_count": 11,
   "metadata": {},
   "outputs": [
    {
     "name": "stdout",
     "output_type": "stream",
     "text": [
      "Image width : 512, height : 512\n"
     ]
    }
   ],
   "source": [
    "print(\"Image width : {}, height : {}\".format(image.shape[0], image.shape[1]))"
   ]
  },
  {
   "cell_type": "code",
   "execution_count": 14,
   "metadata": {},
   "outputs": [
    {
     "name": "stdout",
     "output_type": "stream",
     "text": [
      "Image width : 512, height : 512\n"
     ]
    }
   ],
   "source": [
    "w = image.shape[1]\n",
    "h = image.shape[0]\n",
    "cX, cY = w//2, h//2\n",
    "print(\"Image width : {}, height : {}\".format(w,h))"
   ]
  },
  {
   "cell_type": "code",
   "execution_count": 16,
   "metadata": {},
   "outputs": [],
   "source": [
    "cropped_image = image[0:cX, 0:cY]\n",
    "cv2.imshow(\"cropped_image\", cropped_image)\n",
    "\n",
    "cv2.waitKey(0)\n",
    "cv2.destroyWindow(\"cropped_image\")"
   ]
  },
  {
   "cell_type": "markdown",
   "metadata": {},
   "source": [
    "# Drawing in OpenCV"
   ]
  },
  {
   "cell_type": "code",
   "execution_count": 12,
   "metadata": {},
   "outputs": [
    {
     "name": "stdout",
     "output_type": "stream",
     "text": [
      "done importing libraries\n"
     ]
    }
   ],
   "source": [
    "import cv2 \n",
    "import numpy as np\n",
    "import matplotlib.pyplot as plt\n",
    "%matplotlib inline\n",
    "print(\"done importing libraries\")"
   ]
  },
  {
   "cell_type": "code",
   "execution_count": 54,
   "metadata": {},
   "outputs": [],
   "source": [
    "canvas = np.zeros((500,500,3), dtype='uint8')"
   ]
  },
  {
   "cell_type": "code",
   "execution_count": 17,
   "metadata": {},
   "outputs": [],
   "source": [
    "#defining colors\n",
    "white = (255,255,255)\n",
    "black = (0,0,0)\n",
    "green = (0,255,0)\n",
    "blue = (255, 0,0)\n",
    "red = (0,0,255)"
   ]
  },
  {
   "cell_type": "code",
   "execution_count": 4,
   "metadata": {},
   "outputs": [],
   "source": [
    "def display(canvas):\n",
    "    cv2.imshow(\"drawing_canvas\", canvas)\n",
    "    cv2.waitKey(0)\n",
    "    cv2.destroyWindow(\"drawing_canvas\")"
   ]
  },
  {
   "cell_type": "code",
   "execution_count": 57,
   "metadata": {},
   "outputs": [
    {
     "name": "stdout",
     "output_type": "stream",
     "text": [
      "Height : 500, width : 500\n"
     ]
    }
   ],
   "source": [
    "h, w = canvas.shape[:2]\n",
    "print(\"Height : {}, width : {}\".format(h,w))"
   ]
  },
  {
   "cell_type": "code",
   "execution_count": 58,
   "metadata": {},
   "outputs": [
    {
     "name": "stdout",
     "output_type": "stream",
     "text": [
      "X center : 250, Y center : 250\n"
     ]
    }
   ],
   "source": [
    "cX, cY = (w//2, h//2)\n",
    "print(\"X center : {}, Y center : {}\".format(cX,cY))"
   ]
  },
  {
   "cell_type": "code",
   "execution_count": 59,
   "metadata": {},
   "outputs": [],
   "source": [
    "cv2.line(canvas , (0,0), (cX,cY), (255,0,0), 4)\n",
    "display(canvas)"
   ]
  },
  {
   "cell_type": "code",
   "execution_count": 60,
   "metadata": {},
   "outputs": [],
   "source": [
    "cv2.line(canvas, (cX,cY), (w, 0), (0,0,255), 2)\n",
    "display(canvas)"
   ]
  },
  {
   "cell_type": "code",
   "execution_count": 61,
   "metadata": {},
   "outputs": [],
   "source": [
    "cv2.rectangle(canvas, (10,10), (cX+10, cY + 10), green, 3)\n",
    "display(canvas)"
   ]
  },
  {
   "cell_type": "code",
   "execution_count": 62,
   "metadata": {},
   "outputs": [],
   "source": [
    "cv2.rectangle(canvas, (cX+15, cY+30), (cX+90, cY+90), blue, -1)    # -1 for filling the circle\n",
    "display(canvas)"
   ]
  },
  {
   "cell_type": "code",
   "execution_count": 63,
   "metadata": {},
   "outputs": [],
   "source": [
    "cv2.circle(canvas, (cX//2,cY//2), 70, white,3)\n",
    "display(canvas)"
   ]
  },
  {
   "cell_type": "code",
   "execution_count": 66,
   "metadata": {},
   "outputs": [
    {
     "name": "stdout",
     "output_type": "stream",
     "text": [
      "0\n",
      "25\n",
      "50\n",
      "75\n",
      "100\n",
      "125\n"
     ]
    }
   ],
   "source": [
    "for i in range(0,150,25):\n",
    "    print(i)"
   ]
  },
  {
   "cell_type": "code",
   "execution_count": 72,
   "metadata": {},
   "outputs": [],
   "source": [
    "for r in range(0,150, 30):\n",
    "    cv2.circle(canvas, (cX,cY), r, red,2)"
   ]
  },
  {
   "cell_type": "code",
   "execution_count": 73,
   "metadata": {},
   "outputs": [],
   "source": [
    "display(canvas)"
   ]
  },
  {
   "cell_type": "code",
   "execution_count": 75,
   "metadata": {},
   "outputs": [
    {
     "name": "stdout",
     "output_type": "stream",
     "text": [
      "canvas saved\n"
     ]
    }
   ],
   "source": [
    "cv2.imwrite(\"my_canvas.jpg\", canvas)\n",
    "print(\"canvas saved\")"
   ]
  },
  {
   "cell_type": "code",
   "execution_count": 76,
   "metadata": {},
   "outputs": [],
   "source": [
    "canvas2 = np.zeros((300,300,3), dtype='uint8')"
   ]
  },
  {
   "cell_type": "code",
   "execution_count": 79,
   "metadata": {},
   "outputs": [],
   "source": [
    "for i in range(0, 25):\n",
    "    # randomly generate a radius size between 5 and 200, generate a\n",
    "    # random color, and then pick a random point on our canvas where\n",
    "    # the circle will be drawn\n",
    "    radius = np.random.randint(5, high=200)\n",
    "    color = np.random.randint(0, high=256, size=(3,)).tolist()\n",
    "    pt = np.random.randint(0, high=300, size=(2,))\n",
    "    # draw our random circle on the canvas\n",
    "    cv2.circle(canvas2, tuple(pt), radius, color, -1)\n",
    "    \n",
    "cv2.imwrite(\"canvas2.jpg\", canvas2)\n",
    "display(canvas2)"
   ]
  },
  {
   "cell_type": "code",
   "execution_count": 30,
   "metadata": {},
   "outputs": [],
   "source": [
    "image = cv2.imread(\"lena.jpg\",1)\n",
    "display(image)"
   ]
  },
  {
   "cell_type": "code",
   "execution_count": 14,
   "metadata": {},
   "outputs": [
    {
     "data": {
      "image/png": "[encoded data removed]",
      "text/plain": [
       "<Figure size 432x288 with 1 Axes>"
      ]
     },
     "metadata": {},
     "output_type": "display_data"
    }
   ],
   "source": [
    "# using matplotlib with images\n",
    "image = cv2.cvtColor(image,cv2.COLOR_BGR2GRAY)\n",
    "plt.imshow(image, cmap='gray',interpolation = 'bicubic')\n",
    "plt.xticks([]), plt.yticks([])       # to hide x & y ticks values\n",
    "plt.show()"
   ]
  },
  {
   "cell_type": "code",
   "execution_count": 34,
   "metadata": {},
   "outputs": [],
   "source": [
    "lena_canvas = np.copy(image)           #copy numpy array"
   ]
  },
  {
   "cell_type": "code",
   "execution_count": 39,
   "metadata": {},
   "outputs": [],
   "source": [
    "cv2.circle(lena_canvas, (264,265), 15, blue, -1)\n",
    "cv2.circle(lena_canvas, (327,265), 15, blue, -1)\n",
    "cv2.circle(lena_canvas, (312,317), 20, red, -1)\n",
    "cv2.rectangle(lena_canvas, (267,345), (317,363), green, -1)\n",
    "display(lena_canvas)"
   ]
  },
  {
   "cell_type": "code",
   "execution_count": 36,
   "metadata": {},
   "outputs": [],
   "source": [
    "display(image)"
   ]
  },
  {
   "cell_type": "code",
   "execution_count": 40,
   "metadata": {},
   "outputs": [
    {
     "name": "stdout",
     "output_type": "stream",
     "text": [
      "Image saved\n"
     ]
    }
   ],
   "source": [
    "cv2.imwrite(\"lena_canvas.jpg\", lena_canvas)\n",
    "print(\"Image saved\")"
   ]
  },
  {
   "cell_type": "code",
   "execution_count": null,
   "metadata": {},
   "outputs": [],
   "source": []
  }
 ],
 "metadata": {
  "kernelspec": {
   "display_name": "Python 3",
   "language": "python",
   "name": "python3"
  },
  "language_info": {
   "codemirror_mode": {
    "name": "ipython",
    "version": 3
   },
   "file_extension": ".py",
   "mimetype": "text/x-python",
   "name": "python",
   "nbconvert_exporter": "python",
   "pygments_lexer": "ipython3",
   "version": "3.7.6"
  }
 },
 "nbformat": 4,
 "nbformat_minor": 4
}
