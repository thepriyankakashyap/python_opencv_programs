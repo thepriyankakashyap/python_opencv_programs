{
 "cells": [
  {
   "cell_type": "code",
   "execution_count": 2,
   "metadata": {},
   "outputs": [],
   "source": [
    "import numpy as np\n",
    "import cv2"
   ]
  },
  {
   "cell_type": "code",
   "execution_count": 4,
   "metadata": {},
   "outputs": [],
   "source": [
    "def display(window_name, canvas):\n",
    "    cv2.imshow(window_name, canvas)\n",
    "    cv2.waitKey(0)\n",
    "    cv2.destroyWindow(window_name)"
   ]
  },
  {
   "cell_type": "code",
   "execution_count": 20,
   "metadata": {},
   "outputs": [],
   "source": [
    "image = cv2.imread(\"chilli.jpg\", 0)\n",
    "display(\"image\", image)"
   ]
  },
  {
   "cell_type": "code",
   "execution_count": 21,
   "metadata": {},
   "outputs": [
    {
     "data": {
      "text/plain": [
       "(512, 512)"
      ]
     },
     "execution_count": 21,
     "metadata": {},
     "output_type": "execute_result"
    }
   ],
   "source": [
    "image.shape"
   ]
  },
  {
   "cell_type": "code",
   "execution_count": 9,
   "metadata": {},
   "outputs": [],
   "source": [
    "edge = np.zeros((image.shape[:2]))\n",
    "display(\"edge\", edge)"
   ]
  },
  {
   "cell_type": "code",
   "execution_count": 10,
   "metadata": {},
   "outputs": [
    {
     "data": {
      "text/plain": [
       "(512, 512)"
      ]
     },
     "execution_count": 10,
     "metadata": {},
     "output_type": "execute_result"
    }
   ],
   "source": [
    "edge.shape"
   ]
  },
  {
   "cell_type": "code",
   "execution_count": 11,
   "metadata": {},
   "outputs": [
    {
     "name": "stdout",
     "output_type": "stream",
     "text": [
      "Height : 512, width : 512\n"
     ]
    }
   ],
   "source": [
    "h, w = image.shape[:2]\n",
    "print(\"Height : {}, width : {}\".format(h,w))"
   ]
  },
  {
   "cell_type": "code",
   "execution_count": 13,
   "metadata": {},
   "outputs": [
    {
     "name": "stdout",
     "output_type": "stream",
     "text": [
      "[[1, 0, -1], [2, 0, -2], [1, 0, -1]]\n"
     ]
    }
   ],
   "source": [
    "sobelx = [[1,0,-1],[2,0,-2],[1,0,-1],]\n",
    "print(sobelx)"
   ]
  },
  {
   "cell_type": "code",
   "execution_count": 14,
   "metadata": {},
   "outputs": [
    {
     "name": "stdout",
     "output_type": "stream",
     "text": [
      "[[ 1  0 -1]\n",
      " [ 2  0 -2]\n",
      " [ 1  0 -1]]\n"
     ]
    }
   ],
   "source": [
    "sobelx = np.asarray(sobelx)\n",
    "print(sobelx)"
   ]
  },
  {
   "cell_type": "code",
   "execution_count": 15,
   "metadata": {},
   "outputs": [
    {
     "data": {
      "text/plain": [
       "(3, 3)"
      ]
     },
     "execution_count": 15,
     "metadata": {},
     "output_type": "execute_result"
    }
   ],
   "source": [
    "sobelx.shape"
   ]
  },
  {
   "cell_type": "code",
   "execution_count": 36,
   "metadata": {},
   "outputs": [],
   "source": [
    "for i in range(1,w-1):\n",
    "    for j in range(1, h-1):\n",
    "        \n",
    "        a0 = image[i-1,j-1] * sobelx[0,0]\n",
    "        a1 = image[i-1,j] * sobelx[0,1]\n",
    "        a2 = image[i-1, j+1] * sobelx[0,2]\n",
    "        a3 = image[i, j-1] * sobelx[1,0]\n",
    "        a4 = image[i, j] * sobelx[1,1]\n",
    "        a5 = image[i, j+1] * sobelx[1,2]\n",
    "        a6 = image[i+1, j-1] * sobelx[2,0]\n",
    "        a7 = image[i+1, j] * sobelx[2,1]\n",
    "        a8 = image[i+1, j+1] * sobelx[2,2]\n",
    "        alist = [a0,a1,a2,a3,a4,a5,a6,a7,a8]\n",
    "        asum = sum(alist)\n",
    "        \n",
    "        edge[i,j] = asum"
   ]
  },
  {
   "cell_type": "code",
   "execution_count": 33,
   "metadata": {},
   "outputs": [
    {
     "name": "stdout",
     "output_type": "stream",
     "text": [
      "[43, 5, 10]\n",
      "58\n"
     ]
    }
   ],
   "source": [
    "b1 = 43\n",
    "b2 = 5\n",
    "b3 = 10\n",
    "l = [b1,b2,b3]\n",
    "print(l)\n",
    "print(sum(l))"
   ]
  },
  {
   "cell_type": "code",
   "execution_count": 50,
   "metadata": {},
   "outputs": [],
   "source": [
    "display(\"edge\", edge)"
   ]
  },
  {
   "cell_type": "code",
   "execution_count": null,
   "metadata": {},
   "outputs": [],
   "source": []
  },
  {
   "cell_type": "code",
   "execution_count": 43,
   "metadata": {},
   "outputs": [
    {
     "name": "stdout",
     "output_type": "stream",
     "text": [
      "[[1, 2, 1], [0, 0, 0], [-1, -2, -1]]\n"
     ]
    }
   ],
   "source": [
    "sobely = [[1,2,1],[0,0,0],[-1,-2,-1]]\n",
    "print(sobely)"
   ]
  },
  {
   "cell_type": "code",
   "execution_count": 44,
   "metadata": {},
   "outputs": [
    {
     "name": "stdout",
     "output_type": "stream",
     "text": [
      "[[ 1  2  1]\n",
      " [ 0  0  0]\n",
      " [-1 -2 -1]]\n"
     ]
    }
   ],
   "source": [
    "sobely = np.asarray(sobely)\n",
    "print(sobely)"
   ]
  },
  {
   "cell_type": "code",
   "execution_count": 45,
   "metadata": {},
   "outputs": [
    {
     "data": {
      "text/plain": [
       "(3, 3)"
      ]
     },
     "execution_count": 45,
     "metadata": {},
     "output_type": "execute_result"
    }
   ],
   "source": [
    "sobely.shape"
   ]
  },
  {
   "cell_type": "code",
   "execution_count": 46,
   "metadata": {},
   "outputs": [
    {
     "name": "stdout",
     "output_type": "stream",
     "text": [
      "(512, 512)\n"
     ]
    }
   ],
   "source": [
    "edge2 = np.zeros((image.shape[:2]))\n",
    "print(edge2.shape)"
   ]
  },
  {
   "cell_type": "code",
   "execution_count": 47,
   "metadata": {},
   "outputs": [],
   "source": [
    "display(\"edge2\", edge2)"
   ]
  },
  {
   "cell_type": "code",
   "execution_count": 48,
   "metadata": {},
   "outputs": [],
   "source": [
    "for i in range(1,w-1):\n",
    "    for j in range(1, h-1):\n",
    "        \n",
    "        a0 = image[i-1,j-1] * sobely[0,0]\n",
    "        a1 = image[i-1,j] * sobely[0,1]\n",
    "        a2 = image[i-1, j+1] * sobely[0,2]\n",
    "        a3 = image[i, j-1] * sobely[1,0]\n",
    "        a4 = image[i, j] * sobely[1,1]\n",
    "        a5 = image[i, j+1] * sobely[1,2]\n",
    "        a6 = image[i+1, j-1] * sobely[2,0]\n",
    "        a7 = image[i+1, j] * sobely[2,1]\n",
    "        a8 = image[i+1, j+1] * sobely[2,2]\n",
    "        alist2 = [a0,a1,a2,a3,a4,a5,a6,a7,a8]\n",
    "        asum2 = sum(alist2)\n",
    "        \n",
    "        edge2[i,j] = asum2"
   ]
  },
  {
   "cell_type": "code",
   "execution_count": 51,
   "metadata": {},
   "outputs": [],
   "source": [
    "display(\"edge2\", edge2)"
   ]
  },
  {
   "cell_type": "code",
   "execution_count": null,
   "metadata": {},
   "outputs": [],
   "source": []
  },
  {
   "cell_type": "code",
   "execution_count": null,
   "metadata": {},
   "outputs": [],
   "source": []
  },
  {
   "cell_type": "code",
   "execution_count": 52,
   "metadata": {},
   "outputs": [],
   "source": [
    "final = cv2.add(edge, edge2)\n",
    "display(\"final\", final)"
   ]
  },
  {
   "cell_type": "code",
   "execution_count": null,
   "metadata": {},
   "outputs": [],
   "source": []
  }
 ],
 "metadata": {
  "kernelspec": {
   "display_name": "Python 3",
   "language": "python",
   "name": "python3"
  },
  "language_info": {
   "codemirror_mode": {
    "name": "ipython",
    "version": 3
   },
   "file_extension": ".py",
   "mimetype": "text/x-python",
   "name": "python",
   "nbconvert_exporter": "python",
   "pygments_lexer": "ipython3",
   "version": "3.7.6"
  }
 },
 "nbformat": 4,
 "nbformat_minor": 4
}
