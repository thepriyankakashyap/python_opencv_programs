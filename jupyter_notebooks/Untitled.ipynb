{
 "cells": [
  {
   "cell_type": "code",
   "execution_count": 1,
   "metadata": {},
   "outputs": [
    {
     "name": "stdout",
     "output_type": "stream",
     "text": [
      "done importing libraries\n"
     ]
    }
   ],
   "source": [
    "import cv2\n",
    "import numpy as np\n",
    "\n",
    "print(\"done importing libraries\")"
   ]
  },
  {
   "cell_type": "markdown",
   "metadata": {},
   "source": [
    "# IMAGE READ, SHOW & WRITE OPERATIONS"
   ]
  },
  {
   "cell_type": "code",
   "execution_count": 24,
   "metadata": {},
   "outputs": [],
   "source": [
    "image = cv2.imread(\"lena.jpg\",1)          # returns 'None' for invalid image"
   ]
  },
  {
   "cell_type": "code",
   "execution_count": 3,
   "metadata": {},
   "outputs": [
    {
     "data": {
      "text/plain": [
       "(512, 512, 3)"
      ]
     },
     "execution_count": 3,
     "metadata": {},
     "output_type": "execute_result"
    }
   ],
   "source": [
    "image.shape"
   ]
  },
  {
   "cell_type": "code",
   "execution_count": 7,
   "metadata": {},
   "outputs": [
    {
     "name": "stdout",
     "output_type": "stream",
     "text": [
      "Height : 512 pixels\n",
      "Width : 512 pixels\n",
      "Channel : 3 \n"
     ]
    }
   ],
   "source": [
    "height = image.shape[0]\n",
    "print(\"Height : {} pixels\".format(height))\n",
    "width = image.shape[1]\n",
    "print(\"Width : {} pixels\".format(width))\n",
    "channels  = image.shape[2]\n",
    "print(\"Channel : {} \".format(channels))"
   ]
  },
  {
   "cell_type": "code",
   "execution_count": 23,
   "metadata": {},
   "outputs": [],
   "source": [
    "cv2.imshow(\"lena_image\", image)\n",
    "cv2.waitKey(0)     # 0 - wait indefinitely\n",
    "# cv2.destroyAllWindows()\n",
    "cv2.destroyWindow(\"lena_image\")"
   ]
  },
  {
   "cell_type": "code",
   "execution_count": 13,
   "metadata": {},
   "outputs": [],
   "source": [
    "gray_image  = cv2.cvtColor(image, cv2.COLOR_BGR2GRAY)"
   ]
  },
  {
   "cell_type": "code",
   "execution_count": 15,
   "metadata": {},
   "outputs": [
    {
     "name": "stdout",
     "output_type": "stream",
     "text": [
      "Image saved\n"
     ]
    }
   ],
   "source": [
    "cv2.imwrite(\"lena_new.jpg\", gray_image)\n",
    "print(\"Image saved\")"
   ]
  },
  {
   "cell_type": "markdown",
   "metadata": {},
   "source": [
    "# Getting and setting pixel values\n",
    "### Pixels are the raw building blocks of an image. Every image consists of a set of pixels."
   ]
  },
  {
   "cell_type": "code",
   "execution_count": 30,
   "metadata": {},
   "outputs": [
    {
     "name": "stdout",
     "output_type": "stream",
     "text": [
      "Pixels at (0,0) are R : 225, G : 138, B : 128\n"
     ]
    }
   ],
   "source": [
    "# getting b, g, r value of image\n",
    "b , g, r = image[0,0]\n",
    "print(\"Pixels at (0,0) are R : {}, G : {}, B : {}\".format(r,g,b))"
   ]
  },
  {
   "cell_type": "code",
   "execution_count": 31,
   "metadata": {},
   "outputs": [
    {
     "name": "stdout",
     "output_type": "stream",
     "text": [
      "Pixels at (50,50) are R : 229, G : 138, B : 109\n"
     ]
    }
   ],
   "source": [
    "b = image[50,50,0]\n",
    "g = image[50,50,1]\n",
    "r = image[50,50,2]\n",
    "print(\"Pixels at (50,50) are R : {}, G : {}, B : {}\".format(r,g,b))"
   ]
  },
  {
   "cell_type": "code",
   "execution_count": null,
   "metadata": {},
   "outputs": [],
   "source": []
  }
 ],
 "metadata": {
  "kernelspec": {
   "display_name": "Python 3",
   "language": "python",
   "name": "python3"
  },
  "language_info": {
   "codemirror_mode": {
    "name": "ipython",
    "version": 3
   },
   "file_extension": ".py",
   "mimetype": "text/x-python",
   "name": "python",
   "nbconvert_exporter": "python",
   "pygments_lexer": "ipython3",
   "version": "3.7.6"
  }
 },
 "nbformat": 4,
 "nbformat_minor": 4
}
